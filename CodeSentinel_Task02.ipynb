{
 "cells": [
  {
   "cell_type": "markdown",
   "id": "9a751147-b4d7-44f4-9a16-448665248a1a",
   "metadata": {},
   "source": [
    "# TASK 02"
   ]
  },
  {
   "cell_type": "code",
   "execution_count": 1,
   "id": "e5c018ae-15d2-41e1-960c-25e8f92a2b65",
   "metadata": {},
   "outputs": [
    {
     "name": "stdout",
     "output_type": "stream",
     "text": [
      "   PassengerId  Survived  Pclass  \\\n",
      "0            1         0       3   \n",
      "1            2         1       1   \n",
      "2            3         1       3   \n",
      "3            4         1       1   \n",
      "4            5         0       3   \n",
      "\n",
      "                                                Name     Sex   Age  SibSp  \\\n",
      "0                            Braund, Mr. Owen Harris    male  22.0      1   \n",
      "1  Cumings, Mrs. John Bradley (Florence Briggs Th...  female  38.0      1   \n",
      "2                             Heikkinen, Miss. Laina  female  26.0      0   \n",
      "3       Futrelle, Mrs. Jacques Heath (Lily May Peel)  female  35.0      1   \n",
      "4                           Allen, Mr. William Henry    male  35.0      0   \n",
      "\n",
      "   Parch            Ticket     Fare Cabin Embarked  \n",
      "0      0         A/5 21171   7.2500   NaN        S  \n",
      "1      0          PC 17599  71.2833   C85        C  \n",
      "2      0  STON/O2. 3101282   7.9250   NaN        S  \n",
      "3      0            113803  53.1000  C123        S  \n",
      "4      0            373450   8.0500   NaN        S  \n"
     ]
    }
   ],
   "source": [
    "# Import pandas\n",
    "import pandas as pd\n",
    "\n",
    "# Read csv file\n",
    "df = pd.read_csv('C:/Users/PMLS/OneDrive/Desktop/titanic/train.csv')\n",
    "\n",
    "# Display first few rows\n",
    "print(df.head())"
   ]
  },
  {
   "cell_type": "code",
   "execution_count": 2,
   "id": "938c63d2-cd1c-417a-8b8c-74bd7c6c7ba9",
   "metadata": {},
   "outputs": [
    {
     "name": "stdout",
     "output_type": "stream",
     "text": [
      "Missing Values per Column:\n",
      "PassengerId      0\n",
      "Survived         0\n",
      "Pclass           0\n",
      "Name             0\n",
      "Sex              0\n",
      "Age            177\n",
      "SibSp            0\n",
      "Parch            0\n",
      "Ticket           0\n",
      "Fare             0\n",
      "Cabin          687\n",
      "Embarked         2\n",
      "dtype: int64\n"
     ]
    }
   ],
   "source": [
    "# Check missing values\n",
    "print(\"Missing Values per Column:\")\n",
    "print(df.isnull().sum())"
   ]
  },
  {
   "cell_type": "markdown",
   "id": "69f9cdc8-3c9e-4c23-bf7d-4766a6315828",
   "metadata": {},
   "source": [
    "### 1. Handle missing values (e.g., fill or drop)"
   ]
  },
  {
   "cell_type": "code",
   "execution_count": 3,
   "id": "ec33f33f-69b3-4f23-9acc-ddf720f84a6b",
   "metadata": {},
   "outputs": [],
   "source": [
    "# Check if 'Age' exists and has at least one non-null value\n",
    "if 'Age' in df.columns and df['Age'].notnull().sum() > 0:\n",
    "    df['Age'] = df['Age'].fillna(df['Age'].median())\n",
    "else:\n",
    "    df['Age'] = df['Age'].fillna(30)  # or some safe default\n",
    "\n",
    "# Drop Cabin if exists\n",
    "if 'Cabin' in df.columns:\n",
    "    df = df.drop('Cabin', axis=1)\n",
    "\n",
    "# Fill 'Embarked' if any missing\n",
    "if 'Embarked' in df.columns and df['Embarked'].isnull().sum() > 0:\n",
    "    df['Embarked'] = df['Embarked'].fillna(df['Embarked'].mode()[0])"
   ]
  },
  {
   "cell_type": "code",
   "execution_count": 4,
   "id": "d1dcdb97-2c68-460a-a9d5-03373969e834",
   "metadata": {},
   "outputs": [
    {
     "name": "stdout",
     "output_type": "stream",
     "text": [
      "\n",
      "Remaining missing values:\n",
      "PassengerId    0\n",
      "Survived       0\n",
      "Pclass         0\n",
      "Name           0\n",
      "Sex            0\n",
      "Age            0\n",
      "SibSp          0\n",
      "Parch          0\n",
      "Ticket         0\n",
      "Fare           0\n",
      "Embarked       0\n",
      "dtype: int64\n"
     ]
    }
   ],
   "source": [
    "# Confirm missing values are handled\n",
    "print(\"\\nRemaining missing values:\")\n",
    "print(df.isnull().sum())"
   ]
  },
  {
   "cell_type": "markdown",
   "id": "7c72c824-71c4-4bd6-be1e-92d6f5bd7bfa",
   "metadata": {},
   "source": [
    "### 2. Convert categorical columns to numeric (e.g., gender, class)"
   ]
  },
  {
   "cell_type": "code",
   "execution_count": 5,
   "id": "52ad246e-cf6d-4213-97bf-7001dec079c1",
   "metadata": {},
   "outputs": [
    {
     "name": "stdout",
     "output_type": "stream",
     "text": [
      "   PassengerId  Survived  Pclass  Sex   Age  SibSp  Parch     Fare  \\\n",
      "0            1         0       3    0  22.0      1      0   7.2500   \n",
      "1            2         1       1    1  38.0      1      0  71.2833   \n",
      "2            3         1       3    1  26.0      0      0   7.9250   \n",
      "3            4         1       1    1  35.0      1      0  53.1000   \n",
      "4            5         0       3    0  35.0      0      0   8.0500   \n",
      "\n",
      "   Embarked_Q  Embarked_S  \n",
      "0           0           1  \n",
      "1           0           0  \n",
      "2           0           1  \n",
      "3           0           1  \n",
      "4           0           1  \n"
     ]
    }
   ],
   "source": [
    "# Preprocess\n",
    "df['Age'] = df['Age'].fillna(df['Age'].median())\n",
    "\n",
    "if 'Cabin' in df.columns:\n",
    "    df = df.drop('Cabin', axis = 1)\n",
    "\n",
    "df['Embarked'] = df['Embarked'].fillna(df['Embarked'].mode()[0])\n",
    "\n",
    "# Drop unnecessary text columns\n",
    "df = df.drop(['Name', 'Ticket'], axis = 1)\n",
    "\n",
    "# Convert 'Sex' to numerical: male = 0, female = 1\n",
    "df['Sex'] = df['Sex'].map({'male': 0, 'female': 1})\n",
    "\n",
    "# Convert 'Embarked' using one-hot encoding\n",
    "df = pd.get_dummies(df, columns = ['Embarked'], drop_first = True)\n",
    "\n",
    "# Convert boolean dummies to integers\n",
    "df[['Embarked_Q', 'Embarked_S']] = df[['Embarked_Q', 'Embarked_S']].astype(int)\n",
    "\n",
    "# Show result\n",
    "print(df.head())"
   ]
  },
  {
   "cell_type": "markdown",
   "id": "404b4c7d-660e-40ac-8d05-dd4a3d45793c",
   "metadata": {},
   "source": [
    "### 3. Plot survival rates by gender and class using matplotlib or seaborn"
   ]
  },
  {
   "cell_type": "code",
   "execution_count": 6,
   "id": "389852e7-94be-4298-9755-3cf338414e9a",
   "metadata": {},
   "outputs": [
    {
     "name": "stdout",
     "output_type": "stream",
     "text": [
      "Requirement already satisfied: seaborn in c:\\program files\\python313\\lib\\site-packages (0.13.2)\n",
      "Requirement already satisfied: matplotlib in c:\\program files\\python313\\lib\\site-packages (3.10.3)\n",
      "Requirement already satisfied: numpy!=1.24.0,>=1.20 in c:\\program files\\python313\\lib\\site-packages (from seaborn) (2.3.1)\n",
      "Requirement already satisfied: pandas>=1.2 in c:\\program files\\python313\\lib\\site-packages (from seaborn) (2.3.1)\n",
      "Requirement already satisfied: contourpy>=1.0.1 in c:\\program files\\python313\\lib\\site-packages (from matplotlib) (1.3.2)\n",
      "Requirement already satisfied: cycler>=0.10 in c:\\program files\\python313\\lib\\site-packages (from matplotlib) (0.12.1)\n",
      "Requirement already satisfied: fonttools>=4.22.0 in c:\\program files\\python313\\lib\\site-packages (from matplotlib) (4.59.0)\n",
      "Requirement already satisfied: kiwisolver>=1.3.1 in c:\\program files\\python313\\lib\\site-packages (from matplotlib) (1.4.8)\n",
      "Requirement already satisfied: packaging>=20.0 in c:\\program files\\python313\\lib\\site-packages (from matplotlib) (24.2)\n",
      "Requirement already satisfied: pillow>=8 in c:\\program files\\python313\\lib\\site-packages (from matplotlib) (11.3.0)\n",
      "Requirement already satisfied: pyparsing>=2.3.1 in c:\\program files\\python313\\lib\\site-packages (from matplotlib) (3.2.3)\n",
      "Requirement already satisfied: python-dateutil>=2.7 in c:\\program files\\python313\\lib\\site-packages (from matplotlib) (2.9.0.post0)\n",
      "Requirement already satisfied: pytz>=2020.1 in c:\\program files\\python313\\lib\\site-packages (from pandas>=1.2->seaborn) (2025.2)\n",
      "Requirement already satisfied: tzdata>=2022.7 in c:\\program files\\python313\\lib\\site-packages (from pandas>=1.2->seaborn) (2025.2)\n",
      "Requirement already satisfied: six>=1.5 in c:\\program files\\python313\\lib\\site-packages (from python-dateutil>=2.7->matplotlib) (1.17.0)\n"
     ]
    }
   ],
   "source": [
    "# Install libraries first\n",
    "!pip install seaborn matplotlib"
   ]
  },
  {
   "cell_type": "code",
   "execution_count": 7,
   "id": "286e30ae-49b3-498d-89cc-884a6ea26966",
   "metadata": {},
   "outputs": [
    {
     "data": {
      "image/png": "[encoded data removed]",
      "text/plain": [
       "<Figure size 800x600 with 1 Axes>"
      ]
     },
     "metadata": {},
     "output_type": "display_data"
    }
   ],
   "source": [
    "# Import libraries\n",
    "import seaborn as sns\n",
    "import matplotlib.pyplot as plt\n",
    "\n",
    "# Set visual style\n",
    "sns.set(style = \"whitegrid\")\n",
    "\n",
    "# Create a new figure\n",
    "plt.figure(figsize = (8, 6))\n",
    "\n",
    "# Plot survival rates by gender and class\n",
    "sns.barplot(x='Pclass', y='Survived', hue='Sex', data=df)\n",
    "\n",
    "# Add title and labels\n",
    "plt.title('Survival Rate by Gender and Passenger Class')\n",
    "plt.xlabel('Passenger Class')\n",
    "plt.ylabel('Survival Rate')\n",
    "\n",
    "# Show the plot\n",
    "plt.show()"
   ]
  }
 ],
 "metadata": {
  "kernelspec": {
   "display_name": "Python 3 (ipykernel)",
   "language": "python",
   "name": "python3"
  },
  "language_info": {
   "codemirror_mode": {
    "name": "ipython",
    "version": 3
   },
   "file_extension": ".py",
   "mimetype": "text/x-python",
   "name": "python",
   "nbconvert_exporter": "python",
   "pygments_lexer": "ipython3",
   "version": "3.13.1"
  }
 },
 "nbformat": 4,
 "nbformat_minor": 5
}
